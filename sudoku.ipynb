{
 "cells": [
  {
   "cell_type": "code",
   "execution_count": 1,
   "id": "e8934e31",
   "metadata": {},
   "outputs": [],
   "source": [
    "from sudoku import Sudoku"
   ]
  },
  {
   "cell_type": "code",
   "execution_count": 2,
   "id": "b476313f",
   "metadata": {},
   "outputs": [
    {
     "name": "stdout",
     "output_type": "stream",
     "text": [
      "2021-11-17 11:40:25,539 - Sudoku - INFO - Sudoku constructor\n",
      "2021-11-17 11:40:25,542 - Sudoku - INFO - Create optimization model\n",
      "2021-11-17 11:40:26,326 - Sudoku - INFO - Solving sudoku\n",
      "2021-11-17 11:40:26,465 - Sudoku - INFO - Sudoku solution\n",
      "   0  1  2  3  4  5  6  7  8\n",
      "0  9  2  5  6  3  1  8  4  7\n",
      "1  6  1  8  5  7  4  2  9  3\n",
      "2  3  7  4  9  8  2  5  6  1\n",
      "3  7  4  9  8  2  6  1  3  5\n",
      "4  8  5  2  4  1  3  9  7  6\n",
      "5  1  6  3  7  9  5  4  8  2\n",
      "6  2  8  7  3  5  9  6  1  4\n",
      "7  4  9  1  2  6  7  3  5  8\n",
      "8  5  3  6  1  4  8  7  2  9\n"
     ]
    }
   ],
   "source": [
    "x = [[0, 2, 0, 0, 3, 0, 0, 4, 0],\n",
    "     [6, 0, 0, 0, 0, 0, 0, 0, 3],\n",
    "     [0, 0, 4, 0, 0, 0, 5, 0, 0],\n",
    "     [0, 0, 0, 8, 0, 6, 0, 0, 0],\n",
    "     [8, 0, 0, 0, 1, 0, 0, 0, 6],\n",
    "     [0, 0, 0, 7, 0, 5, 0, 0, 0],\n",
    "     [0, 0, 7, 0, 0, 0, 6, 0, 0],\n",
    "     [4, 0, 0, 0, 0, 0, 0, 0, 8],\n",
    "     [0, 3, 0, 0, 4, 0, 0, 2, 0]\n",
    "     ]\n",
    "\n",
    "s = Sudoku(x)"
   ]
  },
  {
   "cell_type": "code",
   "execution_count": 3,
   "id": "12026f6b",
   "metadata": {},
   "outputs": [
    {
     "name": "stdout",
     "output_type": "stream",
     "text": [
      "2021-11-17 11:40:26,484 - Sudoku - INFO - Sudoku constructor\n",
      "2021-11-17 11:40:26,484 - Sudoku - INFO - Create optimization model\n",
      "2021-11-17 11:40:27,138 - Sudoku - INFO - Solving sudoku\n",
      "2021-11-17 11:40:27,238 - Sudoku - INFO - Sudoku solution\n",
      "   0  1  2  3  4  5  6  7  8\n",
      "0  7  9  6  4  8  1  2  5  3\n",
      "1  2  3  5  7  9  6  4  1  8\n",
      "2  1  4  8  2  5  3  6  9  7\n",
      "3  8  1  7  6  4  9  3  2  5\n",
      "4  6  2  3  5  7  8  1  4  9\n",
      "5  4  5  9  1  3  2  8  7  6\n",
      "6  5  7  1  8  6  4  9  3  2\n",
      "7  3  6  4  9  2  7  5  8  1\n",
      "8  9  8  2  3  1  5  7  6  4\n"
     ]
    }
   ],
   "source": [
    "x = [[0, 9, 0, 0, 0, 0, 0, 5, 0],\n",
    "     [2, 0, 5, 0, 0, 0, 4, 0, 8],\n",
    "     [0, 0, 0, 0, 0, 3, 6, 0, 0],\n",
    "     [0, 0, 7, 6, 4, 9, 0, 0, 0],\n",
    "     [6, 0, 0, 0, 0, 8, 1, 4, 0],\n",
    "     [0, 0, 9, 0, 0, 0, 0, 0, 0],\n",
    "     [0, 0, 0, 0, 0, 0, 0, 3, 2],\n",
    "     [0, 0, 0, 0, 2, 0, 5, 0, 0],\n",
    "     [0, 8, 0, 3, 0, 0, 0, 0, 0]\n",
    "     ]\n",
    "\n",
    "s = Sudoku(x)"
   ]
  },
  {
   "cell_type": "code",
   "execution_count": 4,
   "id": "0acc2134",
   "metadata": {},
   "outputs": [
    {
     "name": "stdout",
     "output_type": "stream",
     "text": [
      "2021-11-17 11:40:27,253 - Sudoku - INFO - Reading Sudoku puzzle from rapidapi\n",
      "   0  1  2  3  4  5  6  7  8\n",
      "0  0  4  0  0  2  6  3  0  8\n",
      "1  0  0  0  0  0  0  0  0  0\n",
      "2  0  0  0  0  0  3  0  6  0\n",
      "3  0  0  0  0  0  5  8  0  1\n",
      "4  0  0  0  4  0  0  0  0  0\n",
      "5  3  2  0  0  0  0  6  0  5\n",
      "6  7  0  0  1  0  0  0  0  4\n",
      "7  0  6  0  0  7  0  0  0  0\n",
      "8  0  1  3  0  0  8  0  7  0\n",
      "2021-11-17 11:40:28,267 - Sudoku - INFO - Sudoku constructor\n",
      "2021-11-17 11:40:28,269 - Sudoku - INFO - Create optimization model\n",
      "2021-11-17 11:40:28,878 - Sudoku - INFO - Solving sudoku\n",
      "2021-11-17 11:40:28,975 - Sudoku - INFO - Sudoku solution\n",
      "   0  1  2  3  4  5  6  7  8\n",
      "0  1  4  7  9  2  6  3  5  8\n",
      "1  8  3  6  5  4  7  2  1  9\n",
      "2  2  9  5  8  1  3  4  6  7\n",
      "3  9  7  4  6  3  5  8  2  1\n",
      "4  6  5  1  4  8  2  7  9  3\n",
      "5  3  2  8  7  9  1  6  4  5\n",
      "6  7  8  2  1  6  9  5  3  4\n",
      "7  5  6  9  3  7  4  1  8  2\n",
      "8  4  1  3  2  5  8  9  7  6\n"
     ]
    }
   ],
   "source": [
    "x = Sudoku.from_rapidapi(\"hard\")"
   ]
  },
  {
   "cell_type": "code",
   "execution_count": null,
   "id": "1d20d616",
   "metadata": {},
   "outputs": [],
   "source": []
  }
 ],
 "metadata": {
  "kernelspec": {
   "display_name": "Python 3",
   "language": "python",
   "name": "python3"
  },
  "language_info": {
   "codemirror_mode": {
    "name": "ipython",
    "version": 3
   },
   "file_extension": ".py",
   "mimetype": "text/x-python",
   "name": "python",
   "nbconvert_exporter": "python",
   "pygments_lexer": "ipython3",
   "version": "3.9.1"
  },
  "latex_envs": {
   "LaTeX_envs_menu_present": true,
   "autoclose": false,
   "autocomplete": true,
   "bibliofile": "biblio.bib",
   "cite_by": "apalike",
   "current_citInitial": 1,
   "eqLabelWithNumbers": true,
   "eqNumInitial": 1,
   "hotkeys": {
    "equation": "Ctrl-E",
    "itemize": "Ctrl-I"
   },
   "labels_anchors": false,
   "latex_user_defs": false,
   "report_style_numbering": false,
   "user_envs_cfg": false
  },
  "toc": {
   "base_numbering": 1,
   "nav_menu": {},
   "number_sections": true,
   "sideBar": true,
   "skip_h1_title": true,
   "title_cell": "Table of Contents",
   "title_sidebar": "Contents",
   "toc_cell": false,
   "toc_position": {},
   "toc_section_display": true,
   "toc_window_display": true
  }
 },
 "nbformat": 4,
 "nbformat_minor": 5
}
